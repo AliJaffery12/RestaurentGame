{
  "nbformat": 4,
  "nbformat_minor": 0,
  "metadata": {
    "colab": {
      "provenance": [],
      "toc_visible": true,
      "authorship_tag": "ABX9TyNaYKYZixkFZcdqbh++7ju9",
      "include_colab_link": true
    },
    "kernelspec": {
      "name": "python3",
      "display_name": "Python 3"
    },
    "language_info": {
      "name": "python"
    }
  },
  "cells": [
    {
      "cell_type": "markdown",
      "metadata": {
        "id": "view-in-github",
        "colab_type": "text"
      },
      "source": [
        "<a href=\"https://colab.research.google.com/github/AliJaffery12/Step_Length_Estimation_Using_LSTM_Model_DeepLearning/blob/main/LSDPortfolio1.ipynb\" target=\"_parent\"><img src=\"https://colab.research.google.com/assets/colab-badge.svg\" alt=\"Open In Colab\"/></a>"
      ]
    },
    {
      "cell_type": "markdown",
      "source": [
        "## Exercise1: ‘Kernel properties’\n",
        "\n",
        "You want to center the inner-product kernel matrix K (euclidean inner product) of a\n",
        "data set afterwards (you forgot to do it on the original data and do not have it anymore,\n",
        "or your data are from a structured domain). You can use some random or real world\n",
        "data (make sure they are not already mean-centered) to generate a kernel matrix e.g.\n",
        "using a standard inner-product kernel."
      ],
      "metadata": {
        "id": "0wb86TKmxiqb"
      }
    },
    {
      "cell_type": "markdown",
      "source": [
        "# 1. Provide some python code to illustrate the relation of a kernel on centered data \"and the eigen-decomposition of uncentered data. How do some results of the eigendecomposition change / or not change?"
      ],
      "metadata": {
        "id": "Lu08DmfXzZ-p"
      }
    },
    {
      "cell_type": "code",
      "execution_count": null,
      "metadata": {
        "colab": {
          "base_uri": "https://localhost:8080/"
        },
        "id": "UrT0ldKoo-y_",
        "outputId": "dba2208f-f867-445c-ab77-24b08bb4a9c5"
      },
      "outputs": [
        {
          "output_type": "stream",
          "name": "stdout",
          "text": [
            "Eigenvalues (Uncentered): [ 9.20830507e+03+0.00000000e+00j  3.15454317e+02+0.00000000e+00j\n",
            "  1.19780429e+01+0.00000000e+00j  3.55257020e+00+0.00000000e+00j\n",
            "  2.17072961e-13+3.68661170e-13j  2.17072961e-13-3.68661170e-13j\n",
            " -3.31681373e-13+0.00000000e+00j  1.09201506e-13+2.77301519e-13j\n",
            "  1.09201506e-13-2.77301519e-13j  2.29779554e-14+2.95549363e-13j\n",
            "  2.29779554e-14-2.95549363e-13j  2.81436757e-13+0.00000000e+00j\n",
            "  2.22626499e-13+1.73230388e-13j  2.22626499e-13-1.73230388e-13j\n",
            " -1.27792230e-13+2.46173631e-13j -1.27792230e-13-2.46173631e-13j\n",
            " -2.02866574e-13+2.01725094e-13j -2.02866574e-13-2.01725094e-13j\n",
            " -2.31072372e-13+1.57938569e-13j -2.31072372e-13-1.57938569e-13j\n",
            " -2.72579642e-13+6.14876007e-14j -2.72579642e-13-6.14876007e-14j\n",
            " -5.26923705e-14+2.67752808e-13j -5.26923705e-14-2.67752808e-13j\n",
            "  2.38937316e-13+6.16726618e-14j  2.38937316e-13-6.16726618e-14j\n",
            "  1.77609310e-13+1.59463307e-13j  1.77609310e-13-1.59463307e-13j\n",
            " -2.14521548e-13+0.00000000e+00j -2.92845746e-14+1.73209711e-13j\n",
            " -2.92845746e-14-1.73209711e-13j -1.48442466e-13+1.03133519e-13j\n",
            " -1.48442466e-13-1.03133519e-13j -1.82709097e-13+0.00000000e+00j\n",
            "  1.79713642e-13+0.00000000e+00j  1.56689469e-13+7.67695869e-14j\n",
            "  1.56689469e-13-7.67695869e-14j  1.46550557e-13+3.14591158e-14j\n",
            "  1.46550557e-13-3.14591158e-14j -1.34752660e-13+4.59845758e-14j\n",
            " -1.34752660e-13-4.59845758e-14j -1.25418514e-13+6.05656411e-14j\n",
            " -1.25418514e-13-6.05656411e-14j -1.29704412e-13+3.22590664e-14j\n",
            " -1.29704412e-13-3.22590664e-14j  1.00175718e-13+9.62504323e-14j\n",
            "  1.00175718e-13-9.62504323e-14j -8.53455072e-14+9.48334035e-14j\n",
            " -8.53455072e-14-9.48334035e-14j  8.67002419e-15+1.29057896e-13j\n",
            "  8.67002419e-15-1.29057896e-13j -6.73461402e-14+1.04004390e-13j\n",
            " -6.73461402e-14-1.04004390e-13j  1.21236154e-13+5.57832453e-14j\n",
            "  1.21236154e-13-5.57832453e-14j  5.00844454e-14+1.16880499e-13j\n",
            "  5.00844454e-14-1.16880499e-13j  1.32401395e-13+0.00000000e+00j\n",
            " -1.22443404e-13+0.00000000e+00j  9.94151730e-14+7.62989769e-14j\n",
            "  9.94151730e-14-7.62989769e-14j  5.72565073e-14+1.08667063e-13j\n",
            "  5.72565073e-14-1.08667063e-13j -1.17020658e-13+9.95402134e-15j\n",
            " -1.17020658e-13-9.95402134e-15j -6.09226491e-14+8.64873197e-14j\n",
            " -6.09226491e-14-8.64873197e-14j -2.79366871e-14+1.05231863e-13j\n",
            " -2.79366871e-14-1.05231863e-13j  3.71022442e-14+1.00207005e-13j\n",
            "  3.71022442e-14-1.00207005e-13j  9.46296487e-14+5.58722379e-14j\n",
            "  9.46296487e-14-5.58722379e-14j  5.88490460e-14+8.61489603e-14j\n",
            "  5.88490460e-14-8.61489603e-14j  1.05592250e-13+1.59109317e-14j\n",
            "  1.05592250e-13-1.59109317e-14j -2.53337891e-14+9.93853716e-14j\n",
            " -2.53337891e-14-9.93853716e-14j  8.09184497e-14+5.84901250e-14j\n",
            "  8.09184497e-14-5.84901250e-14j  9.74790676e-14+2.50924010e-14j\n",
            "  9.74790676e-14-2.50924010e-14j -7.12378610e-14+6.44996107e-14j\n",
            " -7.12378610e-14-6.44996107e-14j  9.68235416e-14+0.00000000e+00j\n",
            " -7.90548227e-14+4.40220046e-14j -7.90548227e-14-4.40220046e-14j\n",
            " -8.74906608e-14+2.49796344e-14j -8.74906608e-14-2.49796344e-14j\n",
            "  2.25795781e-14+8.69165673e-14j  2.25795781e-14-8.69165673e-14j\n",
            " -7.95155066e-14+2.82671876e-14j -7.95155066e-14-2.82671876e-14j\n",
            " -6.16048118e-15+8.11560707e-14j -6.16048118e-15-8.11560707e-14j\n",
            "  8.30429571e-14+2.30956308e-14j  8.30429571e-14-2.30956308e-14j\n",
            " -5.94433170e-14+4.81467022e-14j -5.94433170e-14-4.81467022e-14j\n",
            " -7.44352233e-14+1.32387407e-14j -7.44352233e-14-1.32387407e-14j\n",
            "  4.65346620e-14+6.08136525e-14j  4.65346620e-14-6.08136525e-14j\n",
            "  3.80720988e-14+6.37238644e-14j  3.80720988e-14-6.37238644e-14j\n",
            "  2.08702720e-14+6.70876139e-14j  2.08702720e-14-6.70876139e-14j\n",
            " -3.28723526e-14+6.30147267e-14j -3.28723526e-14-6.30147267e-14j\n",
            "  2.05140307e-15+6.67327329e-14j  2.05140307e-15-6.67327329e-14j\n",
            " -3.50917213e-14+5.85609567e-14j -3.50917213e-14-5.85609567e-14j\n",
            " -6.67135314e-14+0.00000000e+00j  5.94805392e-14+3.33125395e-14j\n",
            "  5.94805392e-14-3.33125395e-14j  6.27235907e-14+0.00000000e+00j\n",
            " -5.11988522e-14+2.05673974e-14j -5.11988522e-14-2.05673974e-14j\n",
            " -2.86105280e-14+4.55923854e-14j -2.86105280e-14-4.55923854e-14j\n",
            "  4.25981181e-14+3.58725071e-14j  4.25981181e-14-3.58725071e-14j\n",
            "  5.74637229e-14+0.00000000e+00j  1.03558793e-14+4.66795868e-14j\n",
            "  1.03558793e-14-4.66795868e-14j -1.66832796e-14+4.09469841e-14j\n",
            " -1.66832796e-14-4.09469841e-14j -3.55821636e-14+2.11404608e-14j\n",
            " -3.55821636e-14-2.11404608e-14j  5.10853642e-14+0.00000000e+00j\n",
            " -2.72399093e-14+2.22142528e-14j -2.72399093e-14-2.22142528e-14j\n",
            "  3.46688941e-14+1.94332951e-14j  3.46688941e-14-1.94332951e-14j\n",
            "  1.37190153e-14+3.78398850e-14j  1.37190153e-14-3.78398850e-14j\n",
            " -2.16690890e-14+4.89973514e-15j -2.16690890e-14-4.89973514e-15j\n",
            "  1.22077377e-14+2.21857316e-14j  1.22077377e-14-2.21857316e-14j\n",
            "  2.50987161e-14+5.18889981e-15j  2.50987161e-14-5.18889981e-15j\n",
            "  1.13823661e-14+1.37490760e-14j  1.13823661e-14-1.37490760e-14j\n",
            " -1.23470439e-14+0.00000000e+00j -9.56349309e-15+0.00000000e+00j\n",
            " -7.10048837e-15+0.00000000e+00j -1.77693489e-30+0.00000000e+00j]\n",
            "Eigenvalues (Centered): [ 6.30008014e+02+0.00000000e+00j  3.61579414e+01+0.00000000e+00j\n",
            "  1.16532155e+01+0.00000000e+00j  3.55142885e+00+0.00000000e+00j\n",
            "  2.13815834e-13+0.00000000e+00j -9.94107165e-14+1.07528315e-13j\n",
            " -9.94107165e-14-1.07528315e-13j -1.54749257e-13+2.54484005e-14j\n",
            " -1.54749257e-13-2.54484005e-14j -1.51665905e-13+9.72524907e-15j\n",
            " -1.51665905e-13-9.72524907e-15j  1.61590661e-13+1.90579967e-15j\n",
            "  1.61590661e-13-1.90579967e-15j  7.56384569e-14+1.02592002e-13j\n",
            "  7.56384569e-14-1.02592002e-13j  1.28302492e-13+2.58950171e-14j\n",
            "  1.28302492e-13-2.58950171e-14j  1.07259405e-13+5.93973742e-14j\n",
            "  1.07259405e-13-5.93973742e-14j -1.27157027e-13+0.00000000e+00j\n",
            " -1.11012530e-13+0.00000000e+00j -1.09426461e-13+1.65681506e-14j\n",
            " -1.09426461e-13-1.65681506e-14j -8.20319870e-14+6.33915386e-14j\n",
            " -8.20319870e-14-6.33915386e-14j  7.59208298e-14+6.46873461e-14j\n",
            "  7.59208298e-14-6.46873461e-14j  1.09600380e-13+0.00000000e+00j\n",
            "  1.05152469e-13+4.64091287e-15j  1.05152469e-13-4.64091287e-15j\n",
            "  9.91736123e-14+2.12348633e-14j  9.91736123e-14-2.12348633e-14j\n",
            " -4.15898156e-14+7.78162655e-14j -4.15898156e-14-7.78162655e-14j\n",
            " -1.01338090e-13+0.00000000e+00j  8.29231944e-14+3.34385357e-14j\n",
            "  8.29231944e-14-3.34385357e-14j -8.18330060e-14+3.53458867e-14j\n",
            " -8.18330060e-14-3.53458867e-14j -8.68186710e-14+1.76062800e-14j\n",
            " -8.68186710e-14-1.76062800e-14j -4.31534485e-14+6.53433302e-14j\n",
            " -4.31534485e-14-6.53433302e-14j -8.60142545e-14+1.90198906e-15j\n",
            " -8.60142545e-14-1.90198906e-15j  3.48038662e-14+6.68280929e-14j\n",
            "  3.48038662e-14-6.68280929e-14j  7.76244033e-14+3.13093234e-14j\n",
            "  7.76244033e-14-3.13093234e-14j  8.24657129e-14+1.49365687e-14j\n",
            "  8.24657129e-14-1.49365687e-14j  8.13588929e-14+0.00000000e+00j\n",
            " -6.00743238e-14+4.37005728e-14j -6.00743238e-14-4.37005728e-14j\n",
            " -1.45050186e-14+6.58363892e-14j -1.45050186e-14-6.58363892e-14j\n",
            "  2.66736253e-14+6.20719291e-14j  2.66736253e-14-6.20719291e-14j\n",
            "  5.20789989e-14+4.24760240e-14j  5.20789989e-14-4.24760240e-14j\n",
            " -6.98385633e-14+1.47664370e-14j -6.98385633e-14-1.47664370e-14j\n",
            " -5.35779139e-14+3.64038761e-14j -5.35779139e-14-3.64038761e-14j\n",
            " -6.35842887e-14+6.83706942e-15j -6.35842887e-14-6.83706942e-15j\n",
            "  6.01281417e-15+5.29709304e-14j  6.01281417e-15-5.29709304e-14j\n",
            "  6.36310734e-14+1.76848914e-14j  6.36310734e-14-1.76848914e-14j\n",
            "  5.79256477e-14+1.32323574e-14j  5.79256477e-14-1.32323574e-14j\n",
            "  6.37043142e-14+0.00000000e+00j  6.14100143e-14+0.00000000e+00j\n",
            " -5.50902980e-14+1.56735115e-14j -5.50902980e-14-1.56735115e-14j\n",
            "  2.20566274e-14+4.30709510e-14j  2.20566274e-14-4.30709510e-14j\n",
            " -6.85743192e-15+4.56625922e-14j -6.85743192e-15-4.56625922e-14j\n",
            "  2.75584672e-14+3.73963336e-14j  2.75584672e-14-3.73963336e-14j\n",
            " -2.32517389e-14+3.90041930e-14j -2.32517389e-14-3.90041930e-14j\n",
            " -5.16369186e-14+9.28254755e-15j -5.16369186e-14-9.28254755e-15j\n",
            " -5.20257597e-14+0.00000000e+00j  3.67021572e-14+2.61307161e-14j\n",
            "  3.67021572e-14-2.61307161e-14j  5.04091869e-14+0.00000000e+00j\n",
            "  4.06135940e-14+2.06701022e-14j  4.06135940e-14-2.06701022e-14j\n",
            "  4.61367905e-14+5.05139120e-15j  4.61367905e-14-5.05139120e-15j\n",
            " -2.50619650e-14+3.25624555e-14j -2.50619650e-14-3.25624555e-14j\n",
            "  3.94194792e-14+9.59408389e-15j  3.94194792e-14-9.59408389e-15j\n",
            " -4.19225108e-14+1.13674879e-14j -4.19225108e-14-1.13674879e-14j\n",
            " -3.45742225e-14+2.15847949e-14j -3.45742225e-14-2.15847949e-14j\n",
            "  4.09198029e-14+0.00000000e+00j -1.34637558e-16+3.42438739e-14j\n",
            " -1.34637558e-16-3.42438739e-14j  3.81203763e-14+0.00000000e+00j\n",
            "  8.61280886e-15+3.02505071e-14j  8.61280886e-15-3.02505071e-14j\n",
            "  2.80614011e-14+1.74402162e-14j  2.80614011e-14-1.74402162e-14j\n",
            " -4.02725891e-14+0.00000000e+00j -3.65940910e-14+9.18013391e-15j\n",
            " -3.65940910e-14-9.18013391e-15j -1.07824648e-14+2.79385295e-14j\n",
            " -1.07824648e-14-2.79385295e-14j -2.24215460e-14+2.36157292e-14j\n",
            " -2.24215460e-14-2.36157292e-14j -2.87895978e-15+2.43367809e-14j\n",
            " -2.87895978e-15-2.43367809e-14j  2.74011745e-14+1.14147724e-15j\n",
            "  2.74011745e-14-1.14147724e-15j  1.84693861e-14+1.66823927e-14j\n",
            "  1.84693861e-14-1.66823927e-14j  1.05821113e-14+2.03693077e-14j\n",
            "  1.05821113e-14-2.03693077e-14j  2.42983213e-14+0.00000000e+00j\n",
            " -2.61279011e-14+4.08337952e-15j -2.61279011e-14-4.08337952e-15j\n",
            " -1.23932079e-14+1.67860907e-14j -1.23932079e-14-1.67860907e-14j\n",
            " -1.98277373e-14+1.18395384e-14j -1.98277373e-14-1.18395384e-14j\n",
            "  1.24836677e-14+9.82390802e-15j  1.24836677e-14-9.82390802e-15j\n",
            " -1.84827709e-14+8.38912135e-15j -1.84827709e-14-8.38912135e-15j\n",
            " -3.01276994e-15+1.46537075e-14j -3.01276994e-15-1.46537075e-14j\n",
            "  2.82980458e-15+1.05881455e-14j  2.82980458e-15-1.05881455e-14j\n",
            " -1.26498723e-14+8.49760628e-15j -1.26498723e-14-8.49760628e-15j\n",
            " -1.83353601e-14+0.00000000e+00j  1.26904109e-14+3.56269303e-15j\n",
            "  1.26904109e-14-3.56269303e-15j -5.92321606e-15+1.22264932e-15j\n",
            " -5.92321606e-15-1.22264932e-15j  7.83242141e-15+2.53026580e-15j\n",
            "  7.83242141e-15-2.53026580e-15j -9.61530793e-16+0.00000000e+00j]\n",
            "Eigenvectors (Uncentered): [[ 6.16168450e-02+0.j -1.29611444e-01+0.j -2.13859674e-03+0.j ...\n",
            "   9.52413369e-02+0.j  1.21590833e-01+0.j -8.45364269e-16+0.j]\n",
            " [ 5.80709402e-02+0.j -1.11019776e-01+0.j -7.06723871e-02+0.j ...\n",
            "   2.24625275e-02+0.j  3.95095148e-02+0.j -4.31545022e-16+0.j]\n",
            " [ 5.67630474e-02+0.j -1.17966465e-01+0.j -4.34254909e-03+0.j ...\n",
            "   4.23678070e-03+0.j -1.24411110e-03+0.j  1.12381508e-16+0.j]\n",
            " ...\n",
            " [ 9.40593040e-02+0.j  4.98296974e-02+0.j  4.14400144e-02+0.j ...\n",
            "  -2.60614221e-02+0.j -4.58495581e-02+0.j  4.42681649e-16+0.j]\n",
            " [ 9.48896096e-02+0.j  5.61012256e-02+0.j  2.12978214e-01+0.j ...\n",
            "  -6.58474888e-02+0.j -5.40806418e-02+0.j  5.83786310e-16+0.j]\n",
            " [ 8.84783560e-02+0.j  5.15697045e-02+0.j  9.57528475e-02+0.j ...\n",
            "  -3.93584284e-02+0.j  1.21135345e-02+0.j -7.04248410e-16+0.j]]\n",
            "Eigenvectors (Centered): [[-0.10693744+0.j         -0.05311648+0.j         -0.00817734+0.j\n",
            "  ... -0.10104424+0.00723614j -0.10104424-0.00723614j\n",
            "  -0.01251056+0.j        ]\n",
            " [-0.10813331+0.j          0.0294357 +0.j         -0.06165318+0.j\n",
            "  ... -0.03173057-0.00147862j -0.03173057+0.00147862j\n",
            "   0.07213692+0.j        ]\n",
            " [-0.11509941+0.j          0.02410542+0.j          0.00524368+0.j\n",
            "  ... -0.01064175+0.09813849j -0.01064175-0.09813849j\n",
            "   0.11462236+0.j        ]\n",
            " ...\n",
            " [ 0.07029277+0.j         -0.01311441+0.j          0.03822315+0.j\n",
            "  ...  0.07390121+0.01456185j  0.07390121-0.01456185j\n",
            "  -0.06842472+0.j        ]\n",
            " [ 0.07573485+0.j         -0.01939549+0.j          0.21186855+0.j\n",
            "  ...  0.00171427+0.01941584j  0.00171427-0.01941584j\n",
            "  -0.04089438+0.j        ]\n",
            " [ 0.0553861 +0.j          0.04700715+0.j          0.10631037+0.j\n",
            "  ... -0.00763837-0.03382126j -0.00763837+0.03382126j\n",
            "   0.0435719 +0.j        ]]\n"
          ]
        }
      ],
      "source": [
        "import numpy as np\n",
        "from sklearn import datasets\n",
        "\n",
        "#Laoding the iris data instead of create the random data because iris data is also not mean centered\n",
        "iris = datasets.load_iris()\n",
        "data = iris.data\n",
        "\n",
        "#Here I am computing  the uncentered kernel matrix by taking the dot product of the data matrix with its transpose\n",
        "kernel_matrix_uncentered = np.dot(data, data.T)\n",
        "\n",
        "# creating the number of data points n, and then create a centering matrix\n",
        "n = kernel_matrix_uncentered.shape[0]\n",
        "centering_matrix = np.identity(n) - (1/n) * np.ones((n, n))\n",
        "\n",
        "\n",
        "kernel_matrix_centered = np.dot(np.dot(centering_matrix, kernel_matrix_uncentered), centering_matrix)\n",
        "\n",
        "# Perform eigen-decomposition on both matrices\n",
        "eigenvalues_uncentered, eigenvectors_uncentered = np.linalg.eig(kernel_matrix_uncentered)\n",
        "eigenvalues_centered, eigenvectors_centered = np.linalg.eig(kernel_matrix_centered)\n",
        "\n",
        "# Compare the eigenvalues and eigenvectors\n",
        "print(\"Eigenvalues (Uncentered):\", eigenvalues_uncentered)\n",
        "print(\"Eigenvalues (Centered):\", eigenvalues_centered)\n",
        "print(\"Eigenvectors (Uncentered):\", eigenvectors_uncentered)\n",
        "print(\"Eigenvectors (Centered):\", eigenvectors_centered)\n"
      ]
    },
    {
      "cell_type": "markdown",
      "source": [
        "## How do some results of the eigendecomposition change / or not change?\n",
        "\n",
        "\n",
        "\n"
      ],
      "metadata": {
        "id": "8_CtInpc0zmB"
      }
    },
    {
      "cell_type": "markdown",
      "source": [
        "The eigenvalues themselves do not change when centering the data. In other words, eigenvalues_uncentered and eigenvalues_centered will remain unchanged.\n",
        "The eigenvectors of the centered data are altered to reflect the principal components of the mean-centered data. In this sense, eigenvectors_uncentered and eigenvectors_centered will generally be different. The change in eigenvectors is due to the centering operation, which shift the data to have a mean of zero."
      ],
      "metadata": {
        "id": "PYZhxeei07e4"
      }
    },
    {
      "cell_type": "markdown",
      "source": [
        "# 2. Prove using the eigenvalue equation, that a matrix K can be changed as if the original data had been mean centered\n"
      ],
      "metadata": {
        "id": "BO5t5agb3ogW"
      }
    },
    {
      "cell_type": "markdown",
      "source": [
        " eigenvalue equation for a matrix K from Martin storath mahts notes:\n",
        "\n",
        "K * v = λ * v\n",
        "\n",
        "Where:\n",
        "\n",
        "K is the original matrix.\n",
        "v is an eigenvector.\n",
        "λ is the corresponding eigenvalue.\n",
        "Now, we want to show that a new matrix K_c, which is as if the original data had been mean-centered, has the same eigenvalues and similar eigenvectors. We can express K_c in terms of K, a centering matrix C, and K_u (uncentered version of K):\n",
        "\n",
        "K_c = C * K * C\n",
        "\n",
        "Where:\n",
        "\n",
        "K_c is the centered matrix.\n",
        "C is the centering matrix, which is constructed as C = I - (1/n) * 1, where I is the identity matrix and n is the number of data points.\n",
        "K is the original matrix.\n",
        "K_u is the uncentered matrix, which is equal to K.\n",
        "Now, let's consider the eigenvalue equation for K_c:\n",
        "\n",
        "K_c * w = λ * w\n",
        "\n",
        "Where:\n",
        "\n",
        "K_c is the centered matrix.\n",
        "w is an eigenvector.\n",
        "λ is the corresponding eigenvalue.\n",
        "Substituting the expression for K_c:\n",
        "\n",
        "(C * K * C) * w = λ * w\n",
        "\n",
        "Now, let's pre-multiply both sides of the equation by $C^-1$ (the inverse of the centering matrix C):\n",
        "\n",
        "$C^-1$ * (C * K * C) * w = $C^-1$ * λ * w\n",
        "\n",
        "Simplify:\n",
        "\n",
        "(K * C) * w = λ * $C^-1$ * w\n",
        "\n",
        "Now, if we let v = C * w, then $C^-1$ * w = v. So, we can rewrite the equation as:\n",
        "\n",
        "(K * C) * v = λ * v\n",
        "\n",
        "This equation is the same as the eigenvalue equation for the original matrix K. Thus, the eigenvalues λ of K_c are the same as those of K, and the eigenvectors v of K_c correspond to the eigenvectors of K. This means that K_c can be changed as if the original data had been mean-centered, and it has the same eigenvalues and similar eigenvectors as if the data were mean-centered."
      ],
      "metadata": {
        "id": "nIR6KmThKWTc"
      }
    },
    {
      "cell_type": "markdown",
      "source": [
        "# 3.what does a center of the data mean in the context of structured data (e.g a similarity matrix based on graphs)"
      ],
      "metadata": {
        "id": "sLeukVXMHBpY"
      }
    },
    {
      "cell_type": "markdown",
      "source": [
        "The center of the data is as the point where the data is most balanced. In the case of a similarity matrix, this would be the point where the average similarity between two data points is the same for all pairs of data points.\n",
        "\n",
        "Centering the data can be useful for a number of reasons. For example, it can make it easier to compare data from different sources, and it can also improve the performance of some machine learning algorithms like Clustering,Classification etc.\n",
        "\n",
        "In the context of structured data, such as a similarity matrix based on graphs, \"centering\" the data means adjusting the data in a way that makes the central point or central tendency more apparent. Graph data can be represented as a similarity matrix where each element represents the similarity or connection strength between two nodes in the graph.Centering in this context typically involves adjusting the similarity matrix to highlight the centrality or similarity relationships between nodes"
      ],
      "metadata": {
        "id": "EY5K70YYHLMw"
      }
    },
    {
      "cell_type": "markdown",
      "source": [
        "# Exercise3: ‘Correction of non-psd similarities’\n",
        "Prove or disprove the following statement. Adding an offset to the diagonal of a symmetric matrix changes the eigenvalues of the matrix by this value"
      ],
      "metadata": {
        "id": "4sVGRack3X0t"
      }
    },
    {
      "cell_type": "markdown",
      "source": [
        "# 1. Provide some python code to illustrate that adding an offset indeed shifts the eigenvalues"
      ],
      "metadata": {
        "id": "4JCCwPjG3oGp"
      }
    },
    {
      "cell_type": "code",
      "source": [
        "import numpy as np\n",
        "\n",
        "# Create a symmetric matrix\n",
        "n = 4  # Size of the matrix\n",
        "A = np.random.rand(n, n)\n",
        "A = (A + A.T) / 2  # checking if the matrix is  symmetric\n",
        "\n",
        "# setting the  offset value here\n",
        "k = 2.0\n",
        "\n",
        "# Add the offset to the diagonal\n",
        "B = A + k * np.identity(n)\n",
        "\n",
        "# Calculating the eigenvalues of both A and B\n",
        "eigenvalues_A = np.linalg.eigvals(A)\n",
        "eigenvalues_B = np.linalg.eigvals(B)\n",
        "\n",
        "# Calculating  the shift here\n",
        "shift = max(eigenvalues_B) - max(eigenvalues_A)\n",
        "\n",
        "print(\"Eigenvalues of A:\")\n",
        "print(eigenvalues_A)\n",
        "\n",
        "print(\"\\nEigenvalues of B:\")\n",
        "print(eigenvalues_B)\n",
        "\n",
        "print(\"\\nShift in eigenvalues:\")\n",
        "print(shift)\n"
      ],
      "metadata": {
        "id": "5m232bGuu72z",
        "colab": {
          "base_uri": "https://localhost:8080/"
        },
        "outputId": "00bc0cfd-78aa-45a0-ddcc-c5c9e3969b4e"
      },
      "execution_count": null,
      "outputs": [
        {
          "output_type": "stream",
          "name": "stdout",
          "text": [
            "Eigenvalues of A:\n",
            "[ 2.51553277 -0.3558601   0.32367859  0.59859289]\n",
            "\n",
            "Eigenvalues of B:\n",
            "[4.51553277 1.6441399  2.32367859 2.59859289]\n",
            "\n",
            "Shift in eigenvalues:\n",
            "1.9999999999999973\n"
          ]
        }
      ]
    },
    {
      "cell_type": "markdown",
      "source": [
        "# 2. Prove the statement"
      ],
      "metadata": {
        "id": "QCBLfzAz4iCY"
      }
    },
    {
      "cell_type": "markdown",
      "source": [
        "Let A be a symmetric matrix, and let I be the identity matrix of the same size. The eigenvalue equation for A is given by:\n",
        "\n",
        "A * x = λ * x\n",
        "\n",
        "Where A is the symmetric matrix, x is the eigenvector, and λ is the eigenvalue.\n",
        "\n",
        "Now, let's consider a modified matrix B, obtained by adding an offset (k) to the diagonal of A:\n",
        "\n",
        "B = A + k * I\n",
        "\n",
        "Let y be the eigenvector of B, and μ be the eigenvalue of B. We can write the eigenvalue equation for B as:\n",
        "\n",
        "B * y = μ * y\n",
        "\n",
        "Substituting B with A + k * I:\n",
        "\n",
        "(A + k * I) * y = μ * y\n",
        "\n",
        "Distribute the terms:\n",
        "\n",
        "A * y + k * I * y = μ * y\n",
        "\n",
        "Now, we can subtract k * I * y from both sides:\n",
        "\n",
        "A * y = μ * y - k * I * y\n",
        "\n",
        "A * y = (μ - k) * y\n",
        "\n",
        "This shows that the eigenvalue of the matrix A is shifted by k when we add an offset k to the diagonal of the matrix. Therefore, the statement is proved"
      ],
      "metadata": {
        "id": "ekiz3MVP4Zf2"
      }
    },
    {
      "cell_type": "markdown",
      "source": [
        "# 3.What are the pros, cons, challenges of doing this in a practical setting?\n"
      ],
      "metadata": {
        "id": "H9c37_1r4vsh"
      }
    },
    {
      "cell_type": "markdown",
      "source": [
        "# Pros:\n",
        "\n",
        "\n",
        "*   Shifting eigenvalues can be useful for regularization purposes in certain numerical algorithms and machine learning models.\n",
        "*   It can help ensure that a matrix remains positive semi-definite (PSD) when needed, which is important in some optimization and modeling tasks.\n",
        "\n",
        "*  It can mitigate issues related to ill-conditioned matrices, where small eigenvalues are close to zero, by adding a small positive offset.\n",
        "\n",
        "\n",
        "# Cons:\n",
        "\n",
        "# Disruption of Structure:\n",
        "Adding an offset to the diagonal of a matrix changes the original structure of the matrix. In some applications, preserving the original structure is important.\n",
        "\n",
        "# Challenges:\n",
        "\n",
        "\n",
        "# Computational Cost:\n",
        "\n",
        "Calculating eigenvalues for large matrices can be computationally expensive. Adding offsets to the diagonal and computing eigenvalues multiple times can significantly increase the computational cost.\n",
        "\n",
        "# Real-World Matrix Data:\n",
        "Real-world matrices often have specific characteristics, and adding offsets may not have a straightforward interpretation or application. In some cases, the relationship between the offset and eigenvalues may not be linear.\n"
      ],
      "metadata": {
        "id": "ZhWGiHPx47os"
      }
    },
    {
      "cell_type": "code",
      "source": [
        "\n"
      ],
      "metadata": {
        "id": "IRWJ8V6b3_ON"
      },
      "execution_count": null,
      "outputs": []
    },
    {
      "cell_type": "code",
      "source": [],
      "metadata": {
        "id": "tbLhXks86g2d"
      },
      "execution_count": null,
      "outputs": []
    }
  ]
}